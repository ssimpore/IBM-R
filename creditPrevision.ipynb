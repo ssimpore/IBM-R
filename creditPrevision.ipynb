{
  "nbformat": 4,
  "nbformat_minor": 0,
  "metadata": {
    "colab": {
      "provenance": [],
      "collapsed_sections": [],
      "mount_file_id": "1kxxUS3qEdvmAQTjjZKNsm4lZiZpQZDKm",
      "authorship_tag": "ABX9TyOIQWRRKKpzDyI8pV0ISVZi",
      "include_colab_link": true
    },
    "kernelspec": {
      "name": "python3",
      "display_name": "Python 3"
    },
    "language_info": {
      "name": "python"
    }
  },
  "cells": [
    {
      "cell_type": "markdown",
      "metadata": {
        "id": "view-in-github",
        "colab_type": "text"
      },
      "source": [
        "<a href=\"https://colab.research.google.com/github/ssimpore/IBM-R/blob/master/creditPrevision.ipynb\" target=\"_parent\"><img src=\"https://colab.research.google.com/assets/colab-badge.svg\" alt=\"Open In Colab\"/></a>"
      ]
    },
    {
      "cell_type": "code",
      "execution_count": 10,
      "metadata": {
        "id": "SZL0i3EfKtXu"
      },
      "outputs": [],
      "source": [
        "import numpy as np\n",
        "import pandas as pd\n",
        "from sklearn.impute import SimpleImputer\n",
        "from sklearn.preprocessing import OneHotEncoder, StandardScaler,MinMaxScaler\n",
        "from sklearn.pipeline import Pipeline\n",
        "from sklearn.compose import ColumnTransformer,make_column_selector\n",
        "from sklearn.linear_model import LinearRegression,LogisticRegression\n",
        "from sklearn.model_selection import train_test_split\n",
        "from sklearn.metrics import accuracy_score\n",
        "import pickle"
      ]
    },
    {
      "cell_type": "code",
      "source": [
        "data = pd.read_csv(\"/content/drive/MyDrive/Colab Notebooks/data/home_loan_data.csv\")\n",
        "df = data.copy()"
      ],
      "metadata": {
        "id": "FrN9AwIzMp2h"
      },
      "execution_count": 11,
      "outputs": []
    },
    {
      "cell_type": "code",
      "source": [
        "X_ = df.drop(columns=['Loan_ID','Loan_Status'])\n",
        "y_ = df[['Loan_Status']]"
      ],
      "metadata": {
        "id": "OjloCS_DNdWK"
      },
      "execution_count": 12,
      "outputs": []
    },
    {
      "cell_type": "code",
      "source": [
        "def buildDataPreprocessing(arg: pd.DataFrame) -> pd.DataFrame:\n",
        "    arg = arg.copy()\n",
        "\n",
        "    cat_selector = make_column_selector(dtype_include=object)\n",
        "    num_selector = make_column_selector(dtype_include=np.number)\n",
        "\n",
        "    numeric_features = num_selector(arg)\n",
        "    categorical_features = cat_selector(arg)\n",
        "\n",
        "    numeric_transformer = Pipeline(steps=[\n",
        "            ('imputer', SimpleImputer(strategy='median')),\n",
        "            #('scaler', StandardScaler())\n",
        "            ])\n",
        "\n",
        "    categorical_transformer = Pipeline(steps=[\n",
        "        ('imputer', SimpleImputer(strategy='most_frequent', fill_value='missing')),\n",
        "        ('encoder', OneHotEncoder(handle_unknown='ignore',drop='first'))])\n",
        "\n",
        "\n",
        "    preprocessor = ColumnTransformer(transformers=[\n",
        "          ('num', numeric_transformer, numeric_features),\n",
        "          ('cat', categorical_transformer, categorical_features)\n",
        "          ])\n",
        "\n",
        "    df_ = preprocessor.fit_transform(arg)\n",
        "\n",
        "    #cat_col_out = preprocessor.named_transformers_['cat']['encoder'].get_feature_names(categorical_features)\n",
        "\n",
        "    cat_col_out = preprocessor.named_transformers_['cat']['encoder'].get_feature_names_out(categorical_features)\n",
        "\n",
        "    df_ = pd.DataFrame(df_,columns=numeric_features+list(cat_col_out))\n",
        "\n",
        "    return df_\n"
      ],
      "metadata": {
        "id": "nmG7hA9M_CEf"
      },
      "execution_count": 13,
      "outputs": []
    },
    {
      "cell_type": "code",
      "source": [
        "X_train_,X_test_,y_train_,y_test_= train_test_split(X_,y_,test_size=0.2,random_state=6)\n",
        "\n",
        "X_train = buildDataPreprocessing(X_train_)\n",
        "y_train = buildDataPreprocessing(y_train_)\n",
        "X_test = buildDataPreprocessing(X_test_)\n",
        "y_test = buildDataPreprocessing(y_test_)\n"
      ],
      "metadata": {
        "id": "ZMuXHGXB_3Sw"
      },
      "execution_count": 14,
      "outputs": []
    },
    {
      "cell_type": "code",
      "source": [
        "pipe = Pipeline(steps=[('regressor',  LogisticRegression())])\n",
        "pipe.fit(X_train,y_train)\n"
      ],
      "metadata": {
        "id": "woa6xe6C8G1g",
        "colab": {
          "base_uri": "https://localhost:8080/"
        },
        "outputId": "681cfe14-67e7-495e-cc21-b0d41303a144"
      },
      "execution_count": 15,
      "outputs": [
        {
          "output_type": "stream",
          "name": "stderr",
          "text": [
            "/usr/local/lib/python3.7/dist-packages/sklearn/utils/validation.py:993: DataConversionWarning: A column-vector y was passed when a 1d array was expected. Please change the shape of y to (n_samples, ), for example using ravel().\n",
            "  y = column_or_1d(y, warn=True)\n"
          ]
        },
        {
          "output_type": "execute_result",
          "data": {
            "text/plain": [
              "Pipeline(steps=[('regressor', LogisticRegression())])"
            ]
          },
          "metadata": {},
          "execution_count": 15
        }
      ]
    },
    {
      "cell_type": "code",
      "source": [
        "pred =pipe.predict(X_test)\n",
        "pred\n",
        "\n",
        "score = accuracy_score(y_test,pred)\n",
        "score"
      ],
      "metadata": {
        "colab": {
          "base_uri": "https://localhost:8080/"
        },
        "id": "CYAwfPtejrbG",
        "outputId": "a147c96a-387b-4afa-9f65-88822d7b5592"
      },
      "execution_count": 16,
      "outputs": [
        {
          "output_type": "execute_result",
          "data": {
            "text/plain": [
              "0.8373983739837398"
            ]
          },
          "metadata": {},
          "execution_count": 16
        }
      ]
    },
    {
      "cell_type": "code",
      "source": [
        "inputsDataDict = {'Gender':'Male',\n",
        "              'Married':'Yes',\n",
        "              'Dependents':'3+',\n",
        "              'Education':'Graduate',\n",
        "              'Self_Employed':'No',\n",
        "              'ApplicantIncome':3000,\n",
        "              'CoapplicantIncome':0,\n",
        "              'LoanAmount':2000.0,\n",
        "              'Loan_Amount_Term':360.0,\n",
        "              'Credit_History':1,\n",
        "              'Property_Area':'Urban'}\n",
        "\n",
        "\n",
        "def getInputsData(df_train :pd.DataFrame, inputsDataDict:dict):\n",
        "    arg = pd.DataFrame(inputsDataDict,index=[0])\n",
        "    arg = pd.concat([arg,df_train],axis=0)\n",
        "    arg = buildDataPreprocessing(arg)\n",
        "    arg = arg[:1]\n",
        "    return arg\n",
        "\n",
        "X_pred = getInputsData(X_train_,inputsDataDict)\n",
        "\n",
        "\n",
        "pipe.predict(X_pred)"
      ],
      "metadata": {
        "colab": {
          "base_uri": "https://localhost:8080/"
        },
        "id": "DTx70SQ09O_W",
        "outputId": "9a101b37-822e-4dd8-c053-6f8e32e29aa9"
      },
      "execution_count": 17,
      "outputs": [
        {
          "output_type": "execute_result",
          "data": {
            "text/plain": [
              "array([0.])"
            ]
          },
          "metadata": {},
          "execution_count": 17
        }
      ]
    },
    {
      "cell_type": "code",
      "source": [
        "#Save the model\n",
        "pickle.dump(pipe,open('prevision_credit.pkl','wb'))"
      ],
      "metadata": {
        "id": "RTGI4Eixkv4C"
      },
      "execution_count": 18,
      "outputs": []
    }
  ]
}