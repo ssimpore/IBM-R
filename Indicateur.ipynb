{
  "nbformat": 4,
  "nbformat_minor": 0,
  "metadata": {
    "colab": {
      "name": "Indicateur.ipynb",
      "provenance": [],
      "collapsed_sections": [],
      "authorship_tag": "ABX9TyMg0cmd/WEan6qhGH7A3qmB",
      "include_colab_link": true
    },
    "kernelspec": {
      "name": "python3",
      "display_name": "Python 3"
    }
  },
  "cells": [
    {
      "cell_type": "markdown",
      "metadata": {
        "id": "view-in-github",
        "colab_type": "text"
      },
      "source": [
        "<a href=\"https://colab.research.google.com/github/ssimpore/IBM-R/blob/master/Indicateur.ipynb\" target=\"_parent\"><img src=\"https://colab.research.google.com/assets/colab-badge.svg\" alt=\"Open In Colab\"/></a>"
      ]
    },
    {
      "cell_type": "code",
      "metadata": {
        "id": "VMD-6OwEwdaX"
      },
      "source": [
        "# Maintriser Pandas\n",
        "import pandas as pd\n",
        "from datetime import datetime\n",
        "import matplotlib.pyplot as plt"
      ],
      "execution_count": 2600,
      "outputs": []
    },
    {
      "cell_type": "code",
      "metadata": {
        "id": "c0uJ7L8bwjjo"
      },
      "source": [
        "# Lire la base de donnée\n",
        "from google.colab import files\n",
        "import io\n",
        "#uploaded=files.upload()"
      ],
      "execution_count": 2601,
      "outputs": []
    },
    {
      "cell_type": "code",
      "metadata": {
        "id": "mU0MXMAcwxFf"
      },
      "source": [
        "data=pd.read_excel('/content/exportAcces_2020_09_30.xls')\n",
        "data.rename(columns={'Numéro':'numero','Parc':'parc','Type Maintenance':'maintenance','Technologie':'techno','Ouvrage':'ouvrage','Etat':'etat','Valideur':'valideur','Entreprise':'entreprise','CA':'charge_acces',\n",
        "                   \"Date d'autorisation\":'auto',\"Date début\":'debut',\"Date de fin\":'fin','Commentaire début':'comment_debut','Commentaire fin':'comment_fin','Interventions associées':'intervention','Arrêts associés':'arret'},inplace=True)\n",
        "data=data.drop(columns=['numero'])\n",
        "choix=['parc','techno','etat','valideur','debut','auto','fin','comment_debut']\n",
        "data=data[choix]"
      ],
      "execution_count": 2602,
      "outputs": []
    },
    {
      "cell_type": "code",
      "metadata": {
        "id": "5AaX2mqe723A"
      },
      "source": [
        "def select_by_date(data_frame,start_end_date):\n",
        "  start_end_date\n",
        "  data_temp=data_frame.copy()\n",
        "  print(len(data_temp))\n",
        "  test=data_temp['debut'].apply(lambda x:(x>=start_end_date[0])&(x<=start_end_date[1]))\n",
        "  data_temp=data_temp[test]\n",
        "  print(len(data_temp))\n",
        "\n",
        "  return data_temp"
      ],
      "execution_count": 2603,
      "outputs": []
    },
    {
      "cell_type": "code",
      "metadata": {
        "id": "qSRf4OnNkKaS"
      },
      "source": [
        "def start_end(data_frame):\n",
        "  return data_frame['debut'].min(),data_frame['debut'].max()"
      ],
      "execution_count": 2604,
      "outputs": []
    },
    {
      "cell_type": "code",
      "metadata": {
        "id": "sfGZhZaskvvS"
      },
      "source": [
        "def set_hour_bound(x,borne):\n",
        "  hour=str(x)[11:]\n",
        "  date=str(x)[:10]\n",
        "  trop_tot=hour<str(borne[0])\n",
        "  trop_tard=hour>str(borne[1])\n",
        "  if trop_tot:\n",
        "    new_hour=str(borne[0])\n",
        "    new_date_hour=date+' '+new_hour\n",
        "  elif trop_tard:\n",
        "    new_hour=str(borne[1])\n",
        "    new_date_hour=date+' '+new_hour\n",
        "  else: new_date_hour=str(x)\n",
        "  return new_date_hour"
      ],
      "execution_count": 2605,
      "outputs": []
    },
    {
      "cell_type": "markdown",
      "metadata": {
        "id": "qfQrZW2UMS0y"
      },
      "source": [
        ""
      ]
    },
    {
      "cell_type": "code",
      "metadata": {
        "id": "0YWBkq55oid0"
      },
      "source": [
        "def Filtrage(data_frame, technologie='', etat_acces='', type_acces=[], list_valideur=[]):\n",
        "    df_temp = data_frame.copy()\n",
        "    print(f\"==> Nombre d'accès avant filtrage : {len(df_temp)}\")\n",
        "\n",
        "    if technologie != '':\n",
        "        df_temp = df_temp[df_temp['techno'] == technologie]\n",
        "    else:\n",
        "        pass\n",
        "\n",
        "    if etat_acces != '':\n",
        "        df_temp = df_temp[df_temp['etat'] == etat_acces]\n",
        "    else:\n",
        "        pass\n",
        "        \n",
        "    if (type_acces != []) and (type_acces != ['']):\n",
        "        type_acces = list(map(lambda x: str(x).lower(), type_acces))\n",
        "        df_temp = df_temp[df_temp['comment_debut'].apply(lambda x: str(x)[:2].lower()).isin(type_acces)]\n",
        "    elif type_acces == ['']:\n",
        "        df_temp = df_temp[df_temp['comment_debut'].isna()]\n",
        "    elif type_acces == []:\n",
        "        pass\n",
        "    if list_valideur != []:\n",
        "        list_valideur = list(map(lambda x: str(x).lower(), list_valideur))\n",
        "        df_temp = df_temp[df_temp['valideur'].apply(lambda x: str(x).lower()).isin(list_valideur)]\n",
        "    elif list_valideur == []:\n",
        "        pass\n",
        "    print(f\"==> Nombre d'accès après filtrage : {len(df_temp)}\")\n",
        "    df_temp=df_temp.reset_index()\n",
        "    \n",
        "    return df_temp"
      ],
      "execution_count": 2606,
      "outputs": []
    },
    {
      "cell_type": "code",
      "metadata": {
        "id": "UjDqZ9x_DlI7"
      },
      "source": [
        "def applied_start_end(data_frame,borne):\n",
        "  data_temp=data_frame.copy()\n",
        "  data_temp['debut']=data_temp['debut'].apply(lambda x:set_hour_bound(x,borne))\n",
        "  data_temp['fin']=data_temp['fin'].apply(lambda x:set_hour_bound(x,borne))\n",
        "  return data_temp"
      ],
      "execution_count": 2607,
      "outputs": []
    },
    {
      "cell_type": "code",
      "metadata": {
        "id": "deuaPW12fBV0"
      },
      "source": [
        "def diff_two_date(x,y):\n",
        "  dformat=\"%d/%m/%Y %H:%M\"\n",
        "  return datetime.strptime(str(x),dformat)-datetime.strptime(str(y),dformat)"
      ],
      "execution_count": 2608,
      "outputs": []
    },
    {
      "cell_type": "code",
      "metadata": {
        "id": "dJJn5HKLfggE"
      },
      "source": [
        "def indicator_calculation(data_frame):\n",
        "  data_temp=data_frame.copy()\n",
        "  data_temp['react']=data_temp.apply(lambda x:diff_two_date(x['auto'],x['debut']),axis=1)\n",
        "  data_temp['arret']=data_temp.apply(lambda x:diff_two_date(x['fin'],x['debut']),axis=1)\n",
        "  return data_temp"
      ],
      "execution_count": 2609,
      "outputs": []
    },
    {
      "cell_type": "code",
      "metadata": {
        "id": "SMeWq1bLVQ-X",
        "outputId": "643e16bd-b25a-42e3-ffca-c45bc349115f",
        "colab": {
          "base_uri": "https://localhost:8080/",
          "height": 89
        }
      },
      "source": [
        "periode_etude_date_heure=('30/09/2020 00:00','30/09/2020 23:59')\n",
        "horaire_travail=('06:00','19:00')\n",
        "\n",
        "techno='Solaire'\n",
        "etat='terminé'\n",
        "acces=[]\n",
        "valideur=[]\n",
        "\n",
        "df=select_by_date(data,periode_etude_date_heure)\n",
        "df=Filtrage(df,techno,etat,acces,valideur)\n",
        "df=applied_start_end(df,horaire_travail)\n"
      ],
      "execution_count": 2610,
      "outputs": [
        {
          "output_type": "stream",
          "text": [
            "164\n",
            "164\n",
            "==> Nombre d'accès avant filtrage : 164\n",
            "==> Nombre d'accès après filtrage : 48\n"
          ],
          "name": "stdout"
        }
      ]
    },
    {
      "cell_type": "code",
      "metadata": {
        "id": "eBKB04l0mEk-",
        "outputId": "63fed776-6153-493e-f25d-b9325d316eca",
        "colab": {
          "base_uri": "https://localhost:8080/",
          "height": 359
        }
      },
      "source": [
        "df=indicator_calculation(df)\n",
        "df[['parc','valideur','debut','fin','auto','react','arret']].head(10)"
      ],
      "execution_count": 2611,
      "outputs": [
        {
          "output_type": "execute_result",
          "data": {
            "text/html": [
              "<div>\n",
              "<style scoped>\n",
              "    .dataframe tbody tr th:only-of-type {\n",
              "        vertical-align: middle;\n",
              "    }\n",
              "\n",
              "    .dataframe tbody tr th {\n",
              "        vertical-align: top;\n",
              "    }\n",
              "\n",
              "    .dataframe thead th {\n",
              "        text-align: right;\n",
              "    }\n",
              "</style>\n",
              "<table border=\"1\" class=\"dataframe\">\n",
              "  <thead>\n",
              "    <tr style=\"text-align: right;\">\n",
              "      <th></th>\n",
              "      <th>parc</th>\n",
              "      <th>valideur</th>\n",
              "      <th>debut</th>\n",
              "      <th>fin</th>\n",
              "      <th>auto</th>\n",
              "      <th>react</th>\n",
              "      <th>arret</th>\n",
              "    </tr>\n",
              "  </thead>\n",
              "  <tbody>\n",
              "    <tr>\n",
              "      <th>0</th>\n",
              "      <td>Arsac 1</td>\n",
              "      <td>SEYE</td>\n",
              "      <td>30/09/2020 17:58</td>\n",
              "      <td>30/09/2020 18:25</td>\n",
              "      <td>30/09/2020 18:12</td>\n",
              "      <td>0 days 00:14:00</td>\n",
              "      <td>0 days 00:27:00</td>\n",
              "    </tr>\n",
              "    <tr>\n",
              "      <th>1</th>\n",
              "      <td>Arsac 1</td>\n",
              "      <td>SEYE</td>\n",
              "      <td>30/09/2020 17:08</td>\n",
              "      <td>30/09/2020 17:30</td>\n",
              "      <td>30/09/2020 17:20</td>\n",
              "      <td>0 days 00:12:00</td>\n",
              "      <td>0 days 00:22:00</td>\n",
              "    </tr>\n",
              "    <tr>\n",
              "      <th>2</th>\n",
              "      <td>Soleol</td>\n",
              "      <td>SEYE</td>\n",
              "      <td>30/09/2020 17:00</td>\n",
              "      <td>30/09/2020 17:30</td>\n",
              "      <td>30/09/2020 17:02</td>\n",
              "      <td>0 days 00:02:00</td>\n",
              "      <td>0 days 00:30:00</td>\n",
              "    </tr>\n",
              "    <tr>\n",
              "      <th>3</th>\n",
              "      <td>Blond</td>\n",
              "      <td>NSIMBA</td>\n",
              "      <td>30/09/2020 16:00</td>\n",
              "      <td>30/09/2020 16:10</td>\n",
              "      <td>30/09/2020 16:01</td>\n",
              "      <td>0 days 00:01:00</td>\n",
              "      <td>0 days 00:10:00</td>\n",
              "    </tr>\n",
              "    <tr>\n",
              "      <th>4</th>\n",
              "      <td>Walon Rivesaltes C</td>\n",
              "      <td>NSIMBA</td>\n",
              "      <td>30/09/2020 08:40</td>\n",
              "      <td>30/09/2020 16:00</td>\n",
              "      <td>30/09/2020 15:59</td>\n",
              "      <td>0 days 07:19:00</td>\n",
              "      <td>0 days 07:20:00</td>\n",
              "    </tr>\n",
              "    <tr>\n",
              "      <th>5</th>\n",
              "      <td>Walon Rivesaltes A</td>\n",
              "      <td>NSIMBA</td>\n",
              "      <td>30/09/2020 08:40</td>\n",
              "      <td>30/09/2020 16:00</td>\n",
              "      <td>30/09/2020 15:59</td>\n",
              "      <td>0 days 07:19:00</td>\n",
              "      <td>0 days 07:20:00</td>\n",
              "    </tr>\n",
              "    <tr>\n",
              "      <th>6</th>\n",
              "      <td>Tiper 1</td>\n",
              "      <td>NSIMBA</td>\n",
              "      <td>30/09/2020 15:10</td>\n",
              "      <td>30/09/2020 15:50</td>\n",
              "      <td>30/09/2020 15:17</td>\n",
              "      <td>0 days 00:07:00</td>\n",
              "      <td>0 days 00:40:00</td>\n",
              "    </tr>\n",
              "    <tr>\n",
              "      <th>7</th>\n",
              "      <td>Drambon</td>\n",
              "      <td>NSIMBA</td>\n",
              "      <td>30/09/2020 14:28</td>\n",
              "      <td>30/09/2020 15:15</td>\n",
              "      <td>30/09/2020 14:46</td>\n",
              "      <td>0 days 00:18:00</td>\n",
              "      <td>0 days 00:47:00</td>\n",
              "    </tr>\n",
              "    <tr>\n",
              "      <th>8</th>\n",
              "      <td>Arsac 2</td>\n",
              "      <td>NSIMBA</td>\n",
              "      <td>30/09/2020 14:40</td>\n",
              "      <td>30/09/2020 15:00</td>\n",
              "      <td>30/09/2020 14:27</td>\n",
              "      <td>-1 days +23:47:00</td>\n",
              "      <td>0 days 00:20:00</td>\n",
              "    </tr>\n",
              "    <tr>\n",
              "      <th>9</th>\n",
              "      <td>Charleval</td>\n",
              "      <td>NSIMBA</td>\n",
              "      <td>30/09/2020 08:00</td>\n",
              "      <td>30/09/2020 13:40</td>\n",
              "      <td>30/09/2020 13:45</td>\n",
              "      <td>0 days 05:45:00</td>\n",
              "      <td>0 days 05:40:00</td>\n",
              "    </tr>\n",
              "  </tbody>\n",
              "</table>\n",
              "</div>"
            ],
            "text/plain": [
              "                 parc valideur  ...             react           arret\n",
              "0             Arsac 1     SEYE  ...   0 days 00:14:00 0 days 00:27:00\n",
              "1             Arsac 1     SEYE  ...   0 days 00:12:00 0 days 00:22:00\n",
              "2              Soleol     SEYE  ...   0 days 00:02:00 0 days 00:30:00\n",
              "3               Blond   NSIMBA  ...   0 days 00:01:00 0 days 00:10:00\n",
              "4  Walon Rivesaltes C   NSIMBA  ...   0 days 07:19:00 0 days 07:20:00\n",
              "5  Walon Rivesaltes A   NSIMBA  ...   0 days 07:19:00 0 days 07:20:00\n",
              "6             Tiper 1   NSIMBA  ...   0 days 00:07:00 0 days 00:40:00\n",
              "7             Drambon   NSIMBA  ...   0 days 00:18:00 0 days 00:47:00\n",
              "8             Arsac 2   NSIMBA  ... -1 days +23:47:00 0 days 00:20:00\n",
              "9           Charleval   NSIMBA  ...   0 days 05:45:00 0 days 05:40:00\n",
              "\n",
              "[10 rows x 7 columns]"
            ]
          },
          "metadata": {
            "tags": []
          },
          "execution_count": 2611
        }
      ]
    }
  ]
}